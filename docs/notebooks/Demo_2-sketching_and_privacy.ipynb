{
 "cells": [
  {
   "cell_type": "markdown",
   "metadata": {},
   "source": [
    "Beware! This notebook is deprecated, don't try to run it."
   ]
  },
  {
   "cell_type": "markdown",
   "metadata": {},
   "source": [
    "# Pycle demo 2: using sketching to protect privacy\n",
    "In this notebook we demonstrate how Differential Privacy [1] can be guaranteed on top op sketching with `pycle` . We will:\n",
    "0. Generate a GMM toy example dataset.\n",
    "1. Compute the *private sketch* of this dataset (for some differential privacy parameters $\\epsilon,\\delta$).\n",
    "2. Privately learn from this sketch both several Gaussian mixture models and k-means centroids.\n",
    "\n",
    "We assume that you have installed `pycle` with `pip` or that you have the `pycle` folder in the same directory as this notebook.\n",
    "\n",
    "\n",
    "[1] We use the Approximate Differential Privacy guarantee, from C. Dwork, \"Calibrating Noise to Sensitivity in Private Data Analysis\", https://people.csail.mit.edu/asmith/PS/sensitivity-tcc-final.pdf "
   ]
  },
  {
   "cell_type": "code",
   "execution_count": 1,
   "metadata": {},
   "outputs": [],
   "source": [
    "# General imports\n",
    "import numpy as np\n",
    "import matplotlib.pyplot as plt\n",
    "\n",
    "# Fix the random seed for reproducibility\n",
    "np.random.seed(42)"
   ]
  },
  {
   "cell_type": "markdown",
   "metadata": {},
   "source": [
    "Once again, we generate a simple synthetic dataset from a GMM, this time in 8 dimensions."
   ]
  },
  {
   "cell_type": "code",
   "execution_count": 2,
   "metadata": {},
   "outputs": [],
   "source": [
    "from pycle.utils.datasets import generatedataset_GMM\n",
    "\n",
    "d = 8       # Dimension\n",
    "K = 4       # Number of Gaussians\n",
    "n = 200000 # Number of samples we want to generate\n",
    "# We use the generatedataset_GMM method from pycle\n",
    "# (we ask that the entries are <= 1, imbalanced clusters, and impose some separation on the clusters)\n",
    "X = generatedataset_GMM(d,K,n,normalize='l_inf-unit-ball',balanced=False, separation_scale=15) \n",
    "\n",
    "# Bounds on the dataset, necessary for compressive k-means\n",
    "bounds = np.array([-np.ones(d),np.ones(d)]) # We assumed the data is normalized between -1 and 1"
   ]
  },
  {
   "cell_type": "markdown",
   "metadata": {},
   "source": [
    "We also define our privacy requirements. Suppose we want approximate differential privacy with $\\epsilon = 10^{-2}$ and $\\delta = 10^{-7}$."
   ]
  },
  {
   "cell_type": "code",
   "execution_count": 3,
   "metadata": {},
   "outputs": [],
   "source": [
    "epsilon = 1e-2\n",
    "delta = 1e-7"
   ]
  },
  {
   "cell_type": "markdown",
   "metadata": {},
   "source": [
    "To sketch with differential privacy, we simply call `sk.computeSketch_DP` instead of `sk.computeSketch`.\n",
    "\n",
    "Note that we also demonstrate here how we can also the sketch function by multiply by normalization constant, e.g. $\\frac{1}{\\sqrt{m}}$."
   ]
  },
  {
   "cell_type": "code",
   "execution_count": 4,
   "metadata": {},
   "outputs": [
    {
     "ename": "ImportError",
     "evalue": "cannot import name 'computeSketch_DP' from 'pycle.sketching' (/home/luc/PycharmProjects/pycle/pycle/sketching/__init__.py)",
     "output_type": "error",
     "traceback": [
      "\u001B[0;31m---------------------------------------------------------------------------\u001B[0m",
      "\u001B[0;31mImportError\u001B[0m                               Traceback (most recent call last)",
      "\u001B[0;32m/tmp/ipykernel_25370/2970174718.py\u001B[0m in \u001B[0;36m<module>\u001B[0;34m\u001B[0m\n\u001B[1;32m      1\u001B[0m \u001B[0;32mfrom\u001B[0m \u001B[0mpycle\u001B[0m\u001B[0;34m.\u001B[0m\u001B[0msketching\u001B[0m\u001B[0;34m.\u001B[0m\u001B[0mfrequency_sampling\u001B[0m \u001B[0;32mimport\u001B[0m \u001B[0mdrawFrequencies\u001B[0m\u001B[0;34m\u001B[0m\u001B[0;34m\u001B[0m\u001B[0m\n\u001B[1;32m      2\u001B[0m \u001B[0;32mfrom\u001B[0m \u001B[0mpycle\u001B[0m\u001B[0;34m.\u001B[0m\u001B[0msketching\u001B[0m\u001B[0;34m.\u001B[0m\u001B[0mfeature_maps\u001B[0m\u001B[0;34m.\u001B[0m\u001B[0mMatrixFeatureMap\u001B[0m \u001B[0;32mimport\u001B[0m \u001B[0mMatrixFeatureMap\u001B[0m\u001B[0;34m\u001B[0m\u001B[0;34m\u001B[0m\u001B[0m\n\u001B[0;32m----> 3\u001B[0;31m \u001B[0;32mfrom\u001B[0m \u001B[0mpycle\u001B[0m\u001B[0;34m.\u001B[0m\u001B[0msketching\u001B[0m \u001B[0;32mimport\u001B[0m \u001B[0mcomputeSketch_DP\u001B[0m\u001B[0;34m\u001B[0m\u001B[0;34m\u001B[0m\u001B[0m\n\u001B[0m\u001B[1;32m      4\u001B[0m \u001B[0;34m\u001B[0m\u001B[0m\n",
      "\u001B[0;31mImportError\u001B[0m: cannot import name 'computeSketch_DP' from 'pycle.sketching' (/home/luc/PycharmProjects/pycle/pycle/sketching/__init__.py)"
     ]
    }
   ],
   "source": [
    "from pycle.sketching.frequency_sampling import drawFrequencies\n",
    "from pycle.sketching.feature_maps.MatrixFeatureMap import MatrixFeatureMap\n",
    "from pycle.sketching import computeSketch_DP"
   ]
  },
  {
   "cell_type": "code",
   "execution_count": null,
   "metadata": {},
   "outputs": [],
   "source": [
    "m = 30*K*d \n",
    "Sigma = 0.025*np.eye(d) # Assumed known a priori!\n",
    "Omega = drawFrequencies(\"AR\",d,m,Sigma)\n",
    "Phi = MatrixFeatureMap(\"ComplexExponential\",Omega, c_norm=1/np.sqrt(m)) # Normalization constant\n",
    "\n",
    "# The only change is that we don't call computeSketch but computeSketch_DP, and input (epsilon,delta)\n",
    "z = computeSketch_DP(X,Phi,epsilon,delta)"
   ]
  },
  {
   "cell_type": "markdown",
   "metadata": {},
   "source": [
    "Having computed `z`, we can learn from it as many times as we want, without breaking privacy (DP is robust to post-processing). In this example, we learn both K-means and a GMM mixture from the same sketch without having to split the privacy budget. Note also that we run several trials of compressive GMM fitting, again without having to split the privacy budget. "
   ]
  },
  {
   "cell_type": "code",
   "execution_count": null,
   "metadata": {},
   "outputs": [],
   "source": [
    "import pycle.compressive_learning as cl\n",
    "from pycle.utils.visualization import plotGMM\n",
    "\n",
    "# K-means\n",
    "kmeans_solver = cl.CLOMP_CKM(Phi,K,bounds,z)\n",
    "kmeans_solver.fit_several_times(10) # we can fit as many times as we want\n",
    "(weights,centroids) = kmeans_solver.current_sol\n",
    "# Visualize the centroids (we re-use the dataset for visual comparison)\n",
    "plt.figure(figsize=(5,5))\n",
    "plt.title(\"Compressively learned centroids\")\n",
    "plt.scatter(X[:,0],X[:,1],s=1, alpha=0.15)\n",
    "plt.scatter(centroids[:,0],centroids[:,1],s=1000*weights)\n",
    "plt.legend([\"Data\",\"Centroids\"])\n",
    "plt.show()\n",
    "\n",
    "# GMM\n",
    "cgmm_solver = cl.CLOMP_dGMM(Phi,K,bounds,z)\n",
    "cgmm_solver.fit_several_times(10)\n",
    "GMM = cgmm_solver.get_GMM()\n",
    "plotGMM(X,GMM)"
   ]
  },
  {
   "cell_type": "code",
   "execution_count": null,
   "metadata": {},
   "outputs": [],
   "source": []
  }
 ],
 "metadata": {
  "kernelspec": {
   "display_name": "Python 3 (ipykernel)",
   "language": "python",
   "name": "python3"
  },
  "language_info": {
   "codemirror_mode": {
    "name": "ipython",
    "version": 3
   },
   "file_extension": ".py",
   "mimetype": "text/x-python",
   "name": "python",
   "nbconvert_exporter": "python",
   "pygments_lexer": "ipython3",
   "version": "3.9.7"
  }
 },
 "nbformat": 4,
 "nbformat_minor": 2
}